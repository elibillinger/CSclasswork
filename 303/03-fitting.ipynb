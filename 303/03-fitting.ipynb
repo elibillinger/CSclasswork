{
 "cells": [
  {
   "cell_type": "markdown",
   "metadata": {},
   "source": [
    "# Project 3 : NumPy, matplotlib, and Python functions"
   ]
  },
  {
   "cell_type": "markdown",
   "metadata": {},
   "source": [
    "## Instructions\n",
    "\n",
    "### Description\n",
    "\n",
    "Below is a guided exercise in doing linear regression using a gradient descent algorithm.  The goal here isn't to teach you the gradient descent algorithm, or scientific computing in general, but to give you experience with using NumPy for matrix-vector math, matplotlib for simple visualizations, and more Python (specifically, writing functions).\n",
    "\n",
    "### Grading\n",
    "\n",
    "For grading purposes, we will clear all outputs from all your cells and then run them all from the top.  Please test your notebook in the same fashion before turning it in.\n",
    "\n",
    "### Submitting Your Solution\n",
    "\n",
    "To submit your notebook, first clear all the cells (this won't matter too much this time, but for larger data sets in the future, it will make the file smaller).  Then use the File->Download As->Notebook to obtain the notebook file.  Finally, submit the notebook file on Canvas.\n"
   ]
  },
  {
   "cell_type": "markdown",
   "metadata": {},
   "source": [
    "## Setup Code\n",
    "\n",
    "Feel free to look through this and see what it is doing, but basically it is just setting up a synthetic regression problem for you, very much like we did in class.  Just make sure you execute the cell before going on to the problems!  If you wish to see the training and testing points, uncomment the last two lines in the cell."
   ]
  },
  {
   "cell_type": "code",
   "execution_count": 7,
   "metadata": {},
   "outputs": [
    {
     "data": {
      "image/png": "[encoded data removed]",
      "text/plain": [
       "<Figure size 432x288 with 1 Axes>"
      ]
     },
     "metadata": {
      "needs_background": "light"
     },
     "output_type": "display_data"
    }
   ],
   "source": [
    "import numpy as np\n",
    "import matplotlib.pyplot as plt\n",
    "%matplotlib inline\n",
    "\n",
    "def f(X):\n",
    "    return 1/(1 + np.exp(-X))\n",
    "\n",
    "n = 50\n",
    "np.random.seed(12345)\n",
    "trainX = np.random.random(n) * 10 - 5\n",
    "trainY = f(trainX) + np.random.randn(n) * 0.125\n",
    "testX = np.random.random(n) * 10 - 5\n",
    "testY = f(testX) + np.random.randn(n) * 0.125\n",
    "#plt.plot(trainX, trainY, 'b.', testX, testY, 'gx')\n",
    "#plt.show()"
   ]
  },
  {
   "cell_type": "markdown",
   "metadata": {
    "collapsed": true
   },
   "source": [
    "#### Problem 1: Features (10 points)\n",
    "For this problem, you need to create a Python function named `phi` that will produce a set of between 5 and 8 features for a given X input, such as the trainX vector created above.  This is basically what we did in lectures 5-7 to generate our design matrix $\\Phi$.  The difference is that in our lectures we used powers of $x$ exclusively, where as below I would like you to use at least two non-polynomial functions of $x$.  You can use any functions you want; consider trigonometric functions, logarithmic and exponential functions, radial basis function (Gaussians), etc.  The only functions you are forbidden to use are functions generating a sigmoid such as the one generating the synthetic data for this problem (this includes the arctangent function)!  It is recommended, but not required, that one of your features is an intercept term (all 1's).\n",
    "\n",
    "Note the triple-quoted string at the top of the function - this produces a documentation comment for the function (visible when you do help(function) or function?).  You should get in the habit of making these for your code.\n",
    "\n",
    "Note: We discussed a variation of this in the `06-ml-beginnings lecture` ... your code will just have to create a list containing different functions of x to send into the np.array() instead of using all powers of x like we did for trainX in the example: `Phi = np.array([trainX ** p for p in range(6)]).T`"
   ]
  },
  {
   "cell_type": "code",
   "execution_count": 2,
   "metadata": {},
   "outputs": [],
   "source": [
    "def phi(X):\n",
    "    '''\n",
    "    Return a design matrix (a NumPy ndarray) whose columns are functions of the input vector, X.\n",
    "    '''\n",
    "    Phi = np.array([X,X**5,np.cos(X),np.log(X**4),np.log(np.exp(X))]).T\n",
    "    return Phi\n",
    "    # YOUR CODE HERE - FINISH THIS"
   ]
  },
  {
   "cell_type": "markdown",
   "metadata": {},
   "source": [
    "You should probably check the output of phi(trainX) below, just to make sure none of your functions generated NaNs (Not a Number values) or infs (infinities) - these can result, e.g, from taking the log of a negative number or division by a number close to zero."
   ]
  },
  {
   "cell_type": "code",
   "execution_count": 3,
   "metadata": {},
   "outputs": [
    {
     "data": {
      "text/plain": [
       "array([[ 4.29616093e+00,  1.46353363e+03, -4.04313437e-01,\n",
       "         5.83088727e+00,  4.29616093e+00],\n",
       "       [-1.83624445e+00, -2.08762498e+01, -2.62341726e-01,\n",
       "         2.43088971e+00, -1.83624445e+00],\n",
       "       [-3.16081188e+00, -3.15495557e+02, -9.99815316e-01,\n",
       "         4.60331568e+00, -3.16081188e+00],\n",
       "       [-2.95439721e+00, -2.25083897e+02, -9.82530039e-01,\n",
       "         4.33317857e+00, -2.95439721e+00],\n",
       "       [ 6.77250291e-01,  1.42477406e-01,  7.79298775e-01,\n",
       "        -1.55885747e+00,  6.77250291e-01],\n",
       "       [ 9.55447030e-01,  7.96219984e-01,  5.77243784e-01,\n",
       "        -1.82303816e-01,  9.55447030e-01],\n",
       "       [ 4.64514520e+00,  2.16270094e+03, -6.71931182e-02,\n",
       "         6.14329052e+00,  4.64514520e+00],\n",
       "       [ 1.53177097e+00,  8.43274894e+00,  3.90154530e-02,\n",
       "         1.70569825e+00,  1.53177097e+00],\n",
       "       [ 2.48906638e+00,  9.55393737e+01, -7.94552391e-01,\n",
       "         3.64763076e+00,  2.48906638e+00],\n",
       "       [ 1.53569871e+00,  8.54142035e+00,  3.50904129e-02,\n",
       "         1.71594185e+00,  1.53569871e+00],\n",
       "       [ 2.47714809e+00,  9.32738397e+01, -7.87259403e-01,\n",
       "         3.62843174e+00,  2.47714809e+00],\n",
       "       [ 4.61306736e+00,  2.08905071e+03, -9.91584025e-02,\n",
       "         6.11557203e+00,  4.61306736e+00],\n",
       "       [-4.91611702e+00, -2.87151481e+03,  2.02321669e-01,\n",
       "         6.37007598e+00, -4.91611702e+00],\n",
       "       [-3.93555623e+00, -9.44127420e+02, -7.01024253e-01,\n",
       "         5.48020891e+00, -3.93555623e+00],\n",
       "       [-2.01296286e+00, -3.30505593e+01, -4.27898640e-01,\n",
       "         2.79843079e+00, -2.01296286e+00],\n",
       "       [ 1.56411183e+00,  9.36136126e+00,  6.68444619e-03,\n",
       "         1.78927257e+00,  1.56411183e+00],\n",
       "       [ 3.09812553e+00,  2.85426998e+02, -9.99055453e-01,\n",
       "         4.52318904e+00,  3.09812553e+00],\n",
       "       [ 3.72175914e+00,  7.14070869e+02, -8.36371401e-01,\n",
       "         5.25678577e+00,  3.72175914e+00],\n",
       "       [ 4.64647597e+00,  2.16580065e+03, -6.58652903e-02,\n",
       "         6.14443631e+00,  4.64647597e+00],\n",
       "       [ 2.23685347e+00,  5.59999549e+01, -6.17890671e-01,\n",
       "         3.22028071e+00,  2.23685347e+00],\n",
       "       [ 1.42475328e+00,  5.87081406e+00,  1.45524453e-01,\n",
       "         1.41599464e+00,  1.42475328e+00],\n",
       "       [ 2.17453621e+00,  4.86220446e+01, -5.67725175e-01,\n",
       "         3.10726162e+00,  2.17453621e+00],\n",
       "       [-3.24009928e-01, -3.57101428e-03,  9.47966401e-01,\n",
       "        -4.50792449e+00, -3.24009928e-01],\n",
       "       [-1.74415322e+00, -1.61407301e+01, -1.72489897e-01,\n",
       "         2.22507672e+00, -1.74415322e+00],\n",
       "       [-6.03553941e-01, -8.00903978e-02,  8.23323701e-01,\n",
       "        -2.01967945e+00, -6.03553941e-01],\n",
       "       [ 2.29689083e+00,  6.39295676e+01, -6.63954278e-01,\n",
       "         3.32622558e+00,  2.29689083e+00],\n",
       "       [ 4.94014586e+00,  2.94238067e+03,  2.25792900e-01,\n",
       "         6.38957943e+00,  4.94014586e+00],\n",
       "       [ 1.76873712e+00,  1.73107725e+01, -1.96650749e-01,\n",
       "         2.28106320e+00,  1.76873712e+00],\n",
       "       [ 2.90822518e+00,  2.08036793e+02, -9.72893167e-01,\n",
       "         4.27017196e+00,  2.90822518e+00],\n",
       "       [-3.29085742e+00, -3.85962698e+02, -9.88880682e-01,\n",
       "         4.76459258e+00, -3.29085742e+00],\n",
       "       [-4.73150724e+00, -2.37136031e+03,  1.91170971e-02,\n",
       "         6.21697523e+00, -4.73150724e+00],\n",
       "       [ 3.00370244e+00,  2.44503194e+02, -9.90508198e-01,\n",
       "         4.39938270e+00,  3.00370244e+00],\n",
       "       [ 4.03722538e+00,  1.07254365e+03, -6.25025031e-01,\n",
       "         5.58223068e+00,  4.03722538e+00],\n",
       "       [-4.75323790e+00, -2.42631819e+03,  4.08375560e-02,\n",
       "         6.23530419e+00, -4.75323790e+00],\n",
       "       [-8.25268155e-02, -3.82803092e-06,  9.96596595e-01,\n",
       "        -9.97852801e+00, -8.25268155e-02],\n",
       "       [ 2.62551673e-01,  1.24759594e-03,  9.65730847e-01,\n",
       "        -5.34922946e+00,  2.62551673e-01],\n",
       "       [ 9.63660104e-01,  8.31035157e-01,  5.70517825e-01,\n",
       "        -1.48066542e-01,  9.63660104e-01],\n",
       "       [-4.48042455e+00, -1.80549313e+03, -2.29889783e-01,\n",
       "         5.99887123e+00, -4.48042455e+00],\n",
       "       [ 3.95089528e+00,  9.62670345e+02, -6.90003364e-01,\n",
       "         5.49576883e+00,  3.95089528e+00],\n",
       "       [ 2.28266180e+00,  6.19737618e+01, -6.53247342e-01,\n",
       "         3.30136888e+00,  2.28266180e+00],\n",
       "       [ 3.18350011e+00,  3.26982379e+02, -9.99122011e-01,\n",
       "         4.63192503e+00,  3.18350011e+00],\n",
       "       [ 2.22752834e-03,  5.48423675e-14,  9.99997519e-01,\n",
       "        -2.44274507e+01,  2.22752834e-03],\n",
       "       [ 3.10189409e+00,  2.87167194e+02, -9.99212115e-01,\n",
       "         4.52805168e+00,  3.10189409e+00],\n",
       "       [-4.04031474e+00, -1.07665359e+03, -6.22610483e-01,\n",
       "         5.58529038e+00, -4.04031474e+00],\n",
       "       [-2.81049956e+00, -1.75354781e+02, -9.45687570e-01,\n",
       "         4.13344899e+00, -2.81049956e+00],\n",
       "       [-2.41280938e+00, -8.17739669e+01, -7.45985251e-01,\n",
       "         3.52316715e+00, -2.41280938e+00],\n",
       "       [-3.18942460e-01, -3.30036294e-03,  9.49567554e-01,\n",
       "        -4.57097827e+00, -3.18942460e-01],\n",
       "       [-4.06267974e-01, -1.10678418e-02,  9.18602053e-01,\n",
       "        -3.60296921e+00, -4.06267974e-01],\n",
       "       [ 2.09509780e+00,  4.03665382e+01, -5.00608432e-01,\n",
       "         2.95840094e+00,  2.09509780e+00],\n",
       "       [-3.21946994e+00, -3.45877151e+02, -9.96969096e-01,\n",
       "         4.67686693e+00, -3.21946994e+00]])"
      ]
     },
     "execution_count": 3,
     "metadata": {},
     "output_type": "execute_result"
    }
   ],
   "source": [
    "#calls your newly created phi function above for testing\n",
    "phi(trainX)"
   ]
  },
  {
   "cell_type": "markdown",
   "metadata": {},
   "source": [
    "#### Problem 2: Gradient Descent (20 points)\n",
    "The basic idea behind [gradient descent](https://en.wikipedia.org/wiki/Gradient_descent) is that you can minimize a parametrized function by simply taking small steps in the negative direction of the derivative of the function.  I'm not going to go into too many details here, since [Wikipedia's article](https://en.wikipedia.org/wiki/Gradient_descent) does such a good job.  Also see [Andrew Ng's class notes](https://datajobs.com/data-science-repo/Generalized-Linear-Models-[Andrew-Ng].pdf) on the topic for a more thorough mathematical treatment.\n",
    "\n",
    "In our cases, we are interesting in minimizing the square error in our linear approximation with respect to our training data.  That is, we want to minimize\n",
    "$$ \\begin{align}\n",
    "     & \\sum_{i=0}^n (\\hat{f}(x_i) - y_i)^2 \\\\\n",
    "   = & \\sum_{i=0}^n (\\phi_0(x_i) w_0 + \\phi_1(x_i) w_1 + \\dots + \\phi_k(x_i) w_k - y_i)^2 \\\\ \n",
    "   = & \\|\\Phi w - \\textbf{y}\\|^2 \n",
    "   \\end{align}\n",
    "$$\n",
    "\n",
    "Since all of our training data (the $x_i$ and $y_i$ terms) are known, the only variables we can optimize on are the $w$ variables. The gradient is (skipping over a *lot* of linear algebra):\n",
    "\n",
    "$$ \\begin{align}\n",
    "       & \\nabla \\|\\Phi w - \\textbf{y}\\|^2  \\\\\n",
    "     = & \\Phi^T (\\Phi w - \\textbf{y})\n",
    "   \\end{align}\n",
    "$$\n",
    "\n",
    "The gradient descent algorithm asks us, then, to start with some guess for $\\textbf{w}$ and repeatedly subtract some small multiple of the gradient from it, until $\\textbf{w}$ converges:\n",
    "\n",
    "$$ \\textbf{w} = \\textbf{w} + \\alpha \\Phi^T (\\textbf{y} - \\Phi \\textbf{w}) $$\n",
    "\n",
    "Convergence is a somewhat tricky issue, and the step size $\\alpha$ is a key to getting good convergence; a large $\\alpha$ speeds up the algorithm, but can miss the optimum by stepping too far (and can even diverge); a small $\\alpha$ may result in a better optimum, but at the cost of speed.  You may have to play around a bit with different values for $\\alpha$ until you get a good result; print out the norm of the change in `w` at each step to see if you are converging or diverging, or put in an `if` statement to kill the function when the norm starts growing large.  In testing this assignment, I found I had to use a pretty small $\\alpha$ to prevent divergence; 0.00001 worked for me.  However, you will get different results depending on your features.\n",
    "\n",
    "So, you will write a function `lr` which takes in $\\Phi$ (generated by your `phi` function above applied to `trainX`) and $y$ (`trainY`) and returns a vector `w` computed by gradient descent.  It is easiest to start `w` at the zero vector and go from there; as we already said, use $\\alpha = 0.1$.  Stop training when the norm of the change in `w` is less than 1e-6 (the norm of a vector is the square root of the dot product of the vector with itself) or in any case after 100,000 steps have been taken.  Before returning, your function should print out the number of iterations (gradient descent steps) taken."
   ]
  },
  {
   "cell_type": "code",
   "execution_count": 16,
   "metadata": {},
   "outputs": [
    {
     "name": "stdout",
     "output_type": "stream",
     "text": [
      "Iterations:  1\n",
      "Iterations:  2\n",
      "Iterations:  3\n",
      "Iterations:  4\n",
      "Iterations:  5\n",
      "Iterations:  6\n",
      "Iterations:  7\n",
      "Iterations:  8\n",
      "[ 3.25715080e-06  2.71466943e-04 -5.50763985e-07  5.53150084e-06\n",
      "  3.25715080e-06]\n"
     ]
    }
   ],
   "source": [
    "def lr(Phi, y):\n",
    "    '''\n",
    "    Computes a linear regression result w minimizing ||Phi w - y||^2 via gradient descent.\n",
    "    '''\n",
    "    Phi = phi(trainX)\n",
    "    w = np.array([0] * Phi.shape[1])\n",
    "    \n",
    "    # YOUR CODE HERE - FINISH THIS\n",
    "    alpha = 1e-8\n",
    "    norm = 1\n",
    "    steps = 1\n",
    "    while(norm > 0.000001 and steps < 100000):\n",
    "        wNew = w + (alpha*Phi.T)@(y-Phi@w)\n",
    "        norm = np.absolute(np.linalg.norm(wNew)-np.linalg.norm(w))\n",
    "        w = wNew\n",
    "        print(\"Iterations: \",steps)\n",
    "        steps = steps + 1\n",
    "    return w\n",
    "print(lr(phi(trainX), trainY))"
   ]
  },
  {
   "cell_type": "markdown",
   "metadata": {},
   "source": [
    "#### Problem 3: Compute RMSE (10 points)\n",
    "Use your `lr` function above to compute a solution, then using your solution, compute the RMSE of your result on both the training and the test data sets, and print them below. (For reference, I was able to achieve 0.11574 with 8 features.)"
   ]
  },
  {
   "cell_type": "code",
   "execution_count": 5,
   "metadata": {},
   "outputs": [
    {
     "name": "stdout",
     "output_type": "stream",
     "text": [
      "Iterations:  1\n",
      "Iterations:  2\n",
      "Iterations:  3\n",
      "Iterations:  4\n",
      "Iterations:  5\n",
      "Iterations:  6\n",
      "Iterations:  7\n",
      "Iterations:  8\n",
      "0.6278994762833229\n",
      "0.6899507992819442\n"
     ]
    }
   ],
   "source": [
    "# YOUR CODE HERE - FINISH THIS\n",
    "yHat = phi(trainX)@lr(phi(trainX),trainY)\n",
    "#print(yHat)\n",
    "rmseTrain = np.sqrt(((trainY-yHat)**2).sum()/n)\n",
    "print(rmseTrain)\n",
    "rmseTest = np.sqrt(((testY-yHat)**2).sum()/n)\n",
    "print(rmseTest)"
   ]
  },
  {
   "cell_type": "markdown",
   "metadata": {},
   "source": [
    "#### Problem 4: Plot Results (10 points)\n",
    "You are going to create three plots below. On the first plot, show the training and testing points (using markers of different colors), and a line plot of your learned function (compute $\\hat{y}$ for $x \\in (-5,5)$ at increments of 0.1).  This can be accomplished using `plt.plot(...)`, following the examples in the lectures.  Don't forget you can also look at the matplotlib documentation - there's a link under the Help menu in your notebook.  If you feel especially daring, you can try doing the plot in [bokeh](http://bokeh.pydata.org/) instead.\n",
    "\n",
    "Your second and third plots should be of the residuals on the training set.  (The residuals are the errors, or differences between the training $y$ values and the corresponding $\\hat{y}$ values.)  There are various ways to look at the residuals; for the second plot, use `plt.scatter(...)` (or bokeh equivalent) to plot the training $x$ values versus the residuals for the training $y$ values.  If the values are roughly equally distributed above and below the $x$ axis, then our approximation was probably pretty good.\n",
    "\n",
    "The third plot should use `plt.hist(...)` (or bokeh equivalent) to show a histogram of the residuals (use 5 bins or so).  Given the small number of samples, it is unlikely you'll see a very normal distribution, but it should be vaguely normal, assuming we nearly approximated $f(x)$."
   ]
  },
  {
   "cell_type": "code",
   "execution_count": 14,
   "metadata": {},
   "outputs": [
    {
     "name": "stdout",
     "output_type": "stream",
     "text": [
      "Iterations:  1\n",
      "Iterations:  2\n",
      "Iterations:  3\n",
      "Iterations:  4\n",
      "Iterations:  5\n",
      "Iterations:  6\n",
      "Iterations:  7\n",
      "Iterations:  8\n"
     ]
    },
    {
     "data": {
      "image/png": "[encoded data removed]",
      "text/plain": [
       "<Figure size 432x288 with 1 Axes>"
      ]
     },
     "metadata": {
      "needs_background": "light"
     },
     "output_type": "display_data"
    },
    {
     "data": {
      "image/png": "[encoded data removed]",
      "text/plain": [
       "<Figure size 432x288 with 1 Axes>"
      ]
     },
     "metadata": {
      "needs_background": "light"
     },
     "output_type": "display_data"
    },
    {
     "data": {
      "image/png": "[encoded data removed]",
      "text/plain": [
       "<Figure size 432x288 with 1 Axes>"
      ]
     },
     "metadata": {
      "needs_background": "light"
     },
     "output_type": "display_data"
    }
   ],
   "source": [
    "#hint, you will need something like this (feel free to change), to get the x∈(−5,5) at increments of 0.1\n",
    "X = np.arange(-5,5,0.1)\n",
    "yHatX = phi(X)@lr(phi(X),trainY)\n",
    "\n",
    "# YOUR CODE HERE - FINISH THIS\n",
    "\n",
    "plt.plot(trainX, trainY, 'b.',testX,testY,'k.',X,yHatX,'r-')\n",
    "plt.title(\"Testing Points and Solution Line\")\n",
    "plt.show()\n",
    "residual = trainY-yHat\n",
    "plt.scatter(trainX,residual)\n",
    "plt.title(\"Training Residual\")\n",
    "plt.show()\n",
    "plt.hist(residual)\n",
    "plt.title(\"Residual\")\n",
    "plt.show()"
   ]
  },
  {
   "cell_type": "code",
   "execution_count": null,
   "metadata": {},
   "outputs": [],
   "source": []
  }
 ],
 "metadata": {
  "anaconda-cloud": {},
  "kernelspec": {
   "display_name": "Python 3",
   "language": "python",
   "name": "python3"
  },
  "language_info": {
   "codemirror_mode": {
    "name": "ipython",
    "version": 3
   },
   "file_extension": ".py",
   "mimetype": "text/x-python",
   "name": "python",
   "nbconvert_exporter": "python",
   "pygments_lexer": "ipython3",
   "version": "3.8.3"
  }
 },
 "nbformat": 4,
 "nbformat_minor": 2
}
