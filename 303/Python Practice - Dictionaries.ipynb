{
 "cells": [
  {
   "cell_type": "code",
   "execution_count": 13,
   "metadata": {},
   "outputs": [
    {
     "name": "stdout",
     "output_type": "stream",
     "text": [
      "{4: ['plum', 'pear'], 5: ['apple', 'peach'], 6: ['orange', 'cherry', 'quince']}\n"
     ]
    }
   ],
   "source": [
    "# Eli Billinger 8/30/2020\n",
    "\n",
    "words = ['apple','plum','pear','peach', 'orange', 'cherry', 'quince']\n",
    "d = {}\n",
    "sLocation = 0\n",
    "\n",
    "words.sort(key=len)\n",
    "for word in words:\n",
    "    l = len(word)\n",
    "    if l in d:\n",
    "        d[l].append(word)\n",
    "    else:\n",
    "        word = [word]\n",
    "        d[l]=word\n",
    "print(d)"
   ]
  },
  {
   "cell_type": "code",
   "execution_count": null,
   "metadata": {},
   "outputs": [],
   "source": []
  }
 ],
 "metadata": {
  "kernelspec": {
   "display_name": "Python 3",
   "language": "python",
   "name": "python3"
  },
  "language_info": {
   "codemirror_mode": {
    "name": "ipython",
    "version": 3
   },
   "file_extension": ".py",
   "mimetype": "text/x-python",
   "name": "python",
   "nbconvert_exporter": "python",
   "pygments_lexer": "ipython3",
   "version": "3.8.3"
  }
 },
 "nbformat": 4,
 "nbformat_minor": 4
}
