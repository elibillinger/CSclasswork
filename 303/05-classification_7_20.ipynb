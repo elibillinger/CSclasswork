{
 "cells": [
  {
   "cell_type": "markdown",
   "metadata": {},
   "source": [
    "## Project 5 : Classification"
   ]
  },
  {
   "cell_type": "markdown",
   "metadata": {},
   "source": [
    "## Instructions\n",
    "\n",
    "### Description\n",
    "\n",
    "Practice classification on the Titanic dataset.\n",
    "\n",
    "### Grading\n",
    "\n",
    "For grading purposes, we will clear all outputs from all your cells and then run them all from the top.  Please test your notebook in the same fashion before turning it in.\n",
    "\n",
    "### Submitting Your Solution\n",
    "\n",
    "To submit your notebook, first clear all the cells (this won't matter too much this time, but for larger data sets in the future, it will make the file smaller).  Then use the File->Download As->Notebook to obtain the notebook file.  Finally, submit the notebook file on Canvas.\n"
   ]
  },
  {
   "cell_type": "code",
   "execution_count": null,
   "metadata": {},
   "outputs": [],
   "source": [
    "import pandas as pd\n",
    "import numpy as np\n",
    "import sklearn as sk\n",
    "import matplotlib.pyplot as plt\n",
    "import seaborn as sns\n",
    "\n",
    "plt.style.use('ggplot')\n",
    "\n",
    "%matplotlib inline\n",
    "%config InlineBackend.figure_format = 'retina'"
   ]
  },
  {
   "cell_type": "markdown",
   "metadata": {
    "collapsed": true
   },
   "source": [
    "### Introduction\n",
    "\n",
    "On April 15, 1912, the largest passenger liner ever made collided with an iceberg during her maiden voyage. When the Titanic sank it killed 1502 out of 2224 passengers and crew. This sensational tragedy shocked the international community and led to better safety regulations for ships. One of the reasons that the shipwreck resulted in such loss of life was that there were not enough lifeboats for the passengers and crew. Although there was some element of luck involved in surviving the sinking, some groups of people were more likely to survive than others.\n",
    "\n",
    "Intro Videos: \n",
    "https://www.youtube.com/watch?v=3lyiZMeTKIo\n",
    "and\n",
    "https://www.youtube.com/watch?v=ItjXTieWKyI \n",
    "\n",
    "The `titanic_data.csv` file contains data for `887` of the real Titanic passengers. Each row represents one person. The columns describe different attributes about the person including whether they survived (`0=No`), their age, their passenger-class (`1=1st Class, Upper`), gender, and the fare they paid (£s*). For more on the currency: http://www.statisticalconsultants.co.nz/blog/titanic-fare-data.html\n",
    "\n",
    "We are going to try to see if there are correlations between the feature data provided (find a best subset of features) and passenger survival."
   ]
  },
  {
   "cell_type": "markdown",
   "metadata": {},
   "source": [
    "### Problem 1: Load and understand the data (35 points)\n",
    "\n",
    "#### Your task (some of this is the work you completed for L14 - be sure to copy that work into here as needed)\n",
    "Conduct some preprocessing steps to explore the following and provide code/answers in the below cells:\n",
    "1. Load the `titanic_data.csv` file into a pandas dataframe\n",
    "2. Explore the data provided (e.g., looking at statistics using describe(), value_counts(), histograms, scatter plots of various features, etc.) \n",
    "3. What are the names of feature columns that appear to be usable for learning?\n",
    "4. What is the name of the column that appears to represent our target?\n",
    "5. Formulate a hypothesis about the relationship between given feature data and the target\n",
    "6. How did Pclass affect passenngers' chances of survival?\n",
    "7. What is the age distribution of survivors?"
   ]
  },
  {
   "cell_type": "code",
   "execution_count": null,
   "metadata": {
    "scrolled": false
   },
   "outputs": [],
   "source": [
    "# Step 1. Load the `titanic_data.csv` file into a pandas dataframe\n",
    "from pandas import DataFrame\n",
    "titanic = DataFrame(pd.read_csv('titanic_data.csv'))\n",
    "titanic"
   ]
  },
  {
   "cell_type": "code",
   "execution_count": null,
   "metadata": {},
   "outputs": [],
   "source": [
    "# Step 2. Explore the data provided (e.g., looking at statistics using describe(), value_counts(), histograms, scatter plots of various features, etc.) \n",
    "titanic.describe()\n",
    "titanic.plot(kind='bar',x='Survived')\n",
    "titanic.plot(kind='scatter',x='Age',y='Survived')\n",
    "titanic.plot(kind='scatter',x='Fare',y='Survived')\n",
    "titanic.plot(kind='scatter',x='Fare',y='Survived')\n",
    "titanic.plot(kind='scatter',x='Siblings/Spouses Aboard',y='Survived')\n",
    "titanic.hist()"
   ]
  },
  {
   "cell_type": "markdown",
   "metadata": {},
   "source": [
    "---\n",
    "\n",
    "**Edit this cell to provide answers to the following steps:**\n",
    "\n",
    "---\n",
    "\n",
    "Step 3. What are the names of feature columns that appear to be usable for learning?\n",
    "\n",
    "The feature columns that appear usable for learning are Age,Sex,and Pclass.\n",
    "\n",
    "Step 4. What is the name of the column that appears to represent our target?\n",
    "\n",
    "Our target is number survived.\n",
    "\n",
    "Step 5. Formulate a hypothesis about the relationship between given feature data and the target\n",
    "\n",
    "I think lower age will mean higher survual rate and females will have a higher survival rate. Also the hgiher class will have more survivors than the lower classes.\n"
   ]
  },
  {
   "cell_type": "code",
   "execution_count": null,
   "metadata": {},
   "outputs": [],
   "source": [
    "#Step 6. How did Pclass affect passenngers' chances of survival?\n",
    "#The lowest \n",
    "#Show your work with a bar plot, dataframe selection, or visual of your choice.\n",
    "pclass_survive = titanic[['Survived','Pclass']].copy()\n",
    "pclass_survive.groupby('Pclass').sum()"
   ]
  },
  {
   "cell_type": "code",
   "execution_count": null,
   "metadata": {},
   "outputs": [],
   "source": [
    "#Step 7. What is the age distribution of survivors?\n",
    "# The age distribution for survivors is from a couple months old to 60's witha few in thier 70's.\n",
    "#Show your work with a dataframe operation and/or histogram plot.\n",
    "age_survive = titanic[['Survived','Age']].copy()\n",
    "age_survive.groupby('Survived').hist()\n",
    "#First Histogram is did not survive.\n",
    "#Secound Histogram is survived."
   ]
  },
  {
   "cell_type": "markdown",
   "metadata": {},
   "source": [
    "### Problem 2: transform the data (10 points)\n",
    "The `Sex` column is categorical, meaning its data are separable into groups, but not numerical. To be able to work with this data, we need numbers, so you task is to transform the `Sex` column into numerical data with pandas' `get_dummies` feature and remove the original categorical `Sex` column."
   ]
  },
  {
   "cell_type": "code",
   "execution_count": null,
   "metadata": {},
   "outputs": [],
   "source": [
    "titanic_dummied = pd.get_dummies(titanic,columns=['Sex'])\n",
    "titanic_dummied"
   ]
  },
  {
   "cell_type": "markdown",
   "metadata": {},
   "source": [
    "### Problem 3: Classification (30 points)\n",
    "Now that the data is transformed, we want to run various classification experiments on it. The first is `K Nearest Neighbors`, which you will conduct by:\n",
    "\n",
    "1. Define input and target data by creating lists of dataframe columns (e.g., inputs = ['Pclass', etc.)\n",
    "2. Split the data into training and testing sets with `train_test_split()`\n",
    "3. Create a `KNeighborsClassifier` using `5` neighbors at first (you can experiment with this parameter)\n",
    "4. Train your model by passing the training dataset to `fit()`\n",
    "5. Calculate predicted target values(y_hat) by passing the testing dataset to `predict()`\n",
    "6. Print the accuracy of the model with `score()`\n",
    "\n",
    "** Note: If you get a python warning as you use the Y, trainY, or testY vector in some of the function calls about \"DataConversionWarning: A column-vector y was passed when a 1d array was expected. Please change the shape of y to (n_samples, )\", you can look up how to use trainY.values.ravel() or trainY.values.flatten() or another function, etc."
   ]
  },
  {
   "cell_type": "code",
   "execution_count": null,
   "metadata": {},
   "outputs": [],
   "source": [
    "inputs = ['Pclass','Age','Sex_male','Sex_female']\n",
    "target = ['Survived']"
   ]
  },
  {
   "cell_type": "code",
   "execution_count": null,
   "metadata": {},
   "outputs": [],
   "source": [
    "from sklearn.model_selection import train_test_split\n",
    "train_i,test_i,train_t,test_t = train_test_split(titanic_dummied[inputs],titanic[target],test_size=0.5)\n",
    "traina = train[train['Survived']==0]\n",
    "trainb = train[train['Survived']==1]\n",
    "plt.plot(traina['Age'],traina['Pclass'],'bs',label='Did not survive')\n",
    "plt.plot(trainb['Age'],trainb['Pclass'],'r^',label='Survived')\n",
    "plt.legend()\n",
    "plt.title('Training Data')\n",
    "plt.show()"
   ]
  },
  {
   "cell_type": "code",
   "execution_count": null,
   "metadata": {},
   "outputs": [],
   "source": [
    "from sklearn.neighbors import KNeighborsClassifier\n",
    "from sklearn import neighbors\n",
    "k = 3\n",
    "\n",
    "Input = x.values.ravel()\n",
    "\n",
    "model = neighbors.KNeighborsClassifier(k)\n",
    "model.fit(train_i,train_t.values.ravel())\n",
    "\n",
    "predicted = model.predict(test_i)\n",
    "\n",
    "model.score(train_i,train_t)"
   ]
  },
  {
   "cell_type": "markdown",
   "metadata": {},
   "source": [
    "### Problem 4: Cross validation, classification report (15 points)\n",
    "- Using the concepts from the 17-model_selection slides and the [`cross_val_score`](http://scikit-learn.org/stable/modules/generated/sklearn.model_selection.cross_val_score.html) function from scikit-learn, estimate the f-score ([`f1-score`](http://scikit-learn.org/stable/modules/generated/sklearn.metrics.f1_score.html#sklearn.metrics.f1_score) (you can use however many folds you wish). To get `cross_val_score` to use `f1-score` rather than the default accuracy measure, you will need to set the `scoring` parameter and use a scorer object created via [`make_scorer`](http://scikit-learn.org/stable/modules/generated/sklearn.metrics.make_scorer.html#sklearn.metrics.make_scorer).  Since this has a few parts to it, let me just give you that parameter: ```scorerVar = make_scorer(f1_score, pos_label=1)```\n",
    "\n",
    "- Using the concepts from the end of the 14-classification slides, output a confusion matrix.\n",
    "\n",
    "- Also, output a classification report [`classification_report`](http://scikit-learn.org/stable/modules/generated/sklearn.metrics.classification_report.html) from sklearn.metrics showing more of the metrics: precision, recall, f1-score for both of our classes."
   ]
  },
  {
   "cell_type": "code",
   "execution_count": null,
   "metadata": {
    "scrolled": false
   },
   "outputs": [],
   "source": [
    "from sklearn import metrics\n",
    "from sklearn.metrics import confusion_matrix, f1_score, classification_report, make_scorer\n",
    "from sklearn import model_selection\n",
    "from sklearn.model_selection import cross_val_score\n",
    "scorerVar = make_scorer(f1_score,pos_label=1)\n",
    "scores = cross_val_score(model,test_i,test_t.values.ravel(),scoring = scorerVar,cv=5)\n",
    "print(scores)\n",
    "\n",
    "conf_matrix = confusion_matrix(test_t,predicted)\n",
    "print(conf_matrix)\n",
    "\n",
    "report = classification_report(test_t,predicted)\n",
    "print(report)"
   ]
  },
  {
   "cell_type": "markdown",
   "metadata": {},
   "source": [
    "### Problem 5: Support Vector Machines (15 points)\n",
    "Now, repeat the above experiment using the using a Support Vector classifier [`SVC`](http://scikit-learn.org/stable/modules/generated/sklearn.svm.SVC.html) with default parameters (RBF kernel) model in scikit-learn, and output:\n",
    "\n",
    "- The fit accuracy (using the `score` method of the model)\n",
    "- The f-score (using the [`cross_val_score`](http://scikit-learn.org/stable/modules/generated/sklearn.model_selection.cross_val_score.html) function)\n",
    "- The confusion matrix\n",
    "- The precision, recall, and f-measure for the 1 class (you can just print the results of the [`classification_report`](http://scikit-learn.org/stable/modules/generated/sklearn.metrics.classification_report.html) function from sklearn.metrics)"
   ]
  },
  {
   "cell_type": "code",
   "execution_count": null,
   "metadata": {},
   "outputs": [],
   "source": [
    "from sklearn.svm import SVC\n",
    "from sklearn.model_selection import cross_val_score\n",
    "\n",
    "#create a model object\n",
    "model = SVC(kernel='linear',C=10)\n",
    "#train our model\n",
    "model.fit(train_i,train_t.values.ravel())\n",
    "#evaluate the model \n",
    "predicted = model.predict(test_i)\n",
    "print(model.score(train_i,train_t))\n",
    "#setup to get f-score and cv\n",
    "scorerVar = make_scorer(f1_score,pos_label=1)\n",
    "scores = cross_val_score(model,test_i,test_t.values.ravel(),scoring = scorerVar,cv=5)\n",
    "print(scores)\n",
    "#confusion matrix\n",
    "conf_matrix = confusion_matrix(test_t,predicted)\n",
    "print(conf_matrix)\n",
    "#classification report\n",
    "report = classification_report(test_t,predicted)\n",
    "print(report)"
   ]
  },
  {
   "cell_type": "markdown",
   "metadata": {},
   "source": [
    "### Problem 6: Logistic Regression (15 points)\n",
    "\n",
    "Now, repeat the above experiment using the [`LogisticRegression`](http://scikit-learn.org/stable/modules/generated/sklearn.linear_model.LogisticRegression.html) model in scikit-learn, and output:\n",
    "\n",
    "- The fit accuracy (using the `score` method of the model)\n",
    "- The f-score (using the [`cross_val_score`](http://scikit-learn.org/stable/modules/generated/sklearn.model_selection.cross_val_score.html) function)\n",
    "- The confusion matrix\n",
    "- The precision, recall, and f-measure for the 1 class (you can just print the results of the [`classification_report`](http://scikit-learn.org/stable/modules/generated/sklearn.metrics.classification_report.html) function from sklearn.metrics)"
   ]
  },
  {
   "cell_type": "code",
   "execution_count": null,
   "metadata": {},
   "outputs": [],
   "source": [
    "from sklearn.linear_model import LogisticRegression\n",
    "\n",
    "#create a model object\n",
    "model = LogisticRegression()\n",
    "#train our model\n",
    "model.fit(train_i,train_t.values.ravel())\n",
    "#evaluate the model \n",
    "predicted = model.predict(test_i)\n",
    "print(model.score(train_i,train_t))\n",
    "#setup to get f-score and cv\n",
    "scorerVar = make_scorer(f1_score,pos_label=1)\n",
    "scores = cross_val_score(model,titanic_dummied[inputs],titanic[target].values.ravel(),scoring = scorerVar,cv=5)\n",
    "print(scores)\n",
    "# dont use split data bc this splits it\n",
    "\n",
    "#confusion matrix\n",
    "conf_matrix = confusion_matrix(test_t,predicted)\n",
    "print(conf_matrix)\n",
    "#classification report\n",
    "report = classification_report(test_t,predicted)\n",
    "print(report)"
   ]
  },
  {
   "cell_type": "markdown",
   "metadata": {},
   "source": [
    "### Problem 7: Comparision and Discussion (5 points)\n",
    "Edit this cell to provide a brief discussion (3-5 sentances at most):\n",
    "1. What was the model/algorithm that performed best for you?\n",
    "2. What feaures and parameters were used to achieve that performance?\n",
    "3. What insights did you gain from your experimentation about the predictive power of this dataset and did it match your original hypothesis about the relationship between given feature data and the target?\n",
    "\n",
    "The model the performed best for me was the logisitic regression model. The features that were used were sex, age,and Pclass with survived as the target. I learned that this dataset can predict really well and from my hypothesis I found out that Pclass did not have a major impact on if you survued but the other features did."
   ]
  },
  {
   "cell_type": "markdown",
   "metadata": {},
   "source": [
    "### Questionnaire\n",
    "1) How long did you spend on this assignment?\n",
    "<br><br>\n",
    "I spent about 6 hours on this assignment.\n",
    "\n",
    "2) What did you like about it? What did you not like about it?\n",
    "<br><br>\n",
    "I liked how this assignment showed us the same problem with different models to show how some are better than others. I did not like the understanding the data section of this assignment.\n",
    "\n",
    "3) Did you find any errors or is there anything you would like changed?\n",
    "<br><br>\n",
    "No errors and I would not change anything."
   ]
  },
  {
   "cell_type": "code",
   "execution_count": null,
   "metadata": {},
   "outputs": [],
   "source": []
  },
  {
   "cell_type": "code",
   "execution_count": null,
   "metadata": {},
   "outputs": [],
   "source": []
  }
 ],
 "metadata": {
  "anaconda-cloud": {},
  "kernelspec": {
   "display_name": "Python 3",
   "language": "python",
   "name": "python3"
  },
  "language_info": {
   "codemirror_mode": {
    "name": "ipython",
    "version": 3
   },
   "file_extension": ".py",
   "mimetype": "text/x-python",
   "name": "python",
   "nbconvert_exporter": "python",
   "pygments_lexer": "ipython3",
   "version": "3.8.3"
  }
 },
 "nbformat": 4,
 "nbformat_minor": 2
}
